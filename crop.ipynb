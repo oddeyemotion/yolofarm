{
 "cells": [
  {
   "cell_type": "code",
   "execution_count": 1,
   "metadata": {},
   "outputs": [],
   "source": [
    "import cv2\n",
    "import os"
   ]
  },
  {
   "cell_type": "code",
   "execution_count": 2,
   "metadata": {},
   "outputs": [],
   "source": [
    "def Resize_Crop(path):\n",
    "    img = cv2.imread(path)\n",
    "    if img is not None:\n",
    "        resize_img = cv2.resize(img, (640, 640))\n",
    "        cropped_image = resize_img[80 : 80 + 480, 0:640]\n",
    "\n",
    "        # img_shape = cropped_image .shape\n",
    "        # height, width, channels = img_shape\n",
    "        # print(f\"Resolution: {width} x {height} pixels\")\n",
    "        return cropped_image\n",
    "        # cv2.imwrite('crop.jpg', cropped_image)\n",
    "\n",
    "    else:\n",
    "        print(\"Error: Could not read the image.\")"
   ]
  },
  {
   "cell_type": "code",
   "execution_count": 4,
   "metadata": {},
   "outputs": [
    {
     "name": "stdout",
     "output_type": "stream",
     "text": [
      "Finish  0\n",
      "Finish  1\n",
      "Finish  2\n",
      "Finish  3\n",
      "Finish  4\n",
      "Finish  5\n",
      "Finish  6\n",
      "Finish  7\n",
      "Finish  8\n",
      "Finish  9\n",
      "Finish  10\n"
     ]
    }
   ],
   "source": [
    "img_dir = 'set1'\n",
    "folder_path = 'crop1'\n",
    "i = 0\n",
    "for img_name in os.listdir(img_dir):\n",
    "    img_path = os.path.join(img_dir,img_name)\n",
    "    cropped_image = Resize_Crop(img_path)\n",
    "\n",
    "    newName = 'img_' + str(i) + '.jpg'\n",
    "\n",
    "    full_path = os.path.join(folder_path, newName)\n",
    "\n",
    "    cv2.imwrite(full_path, cropped_image)\n",
    "    print(\"Finish \", i)\n",
    "    i += 1\n",
    "\n"
   ]
  }
 ],
 "metadata": {
  "kernelspec": {
   "display_name": "venv",
   "language": "python",
   "name": "python3"
  },
  "language_info": {
   "codemirror_mode": {
    "name": "ipython",
    "version": 3
   },
   "file_extension": ".py",
   "mimetype": "text/x-python",
   "name": "python",
   "nbconvert_exporter": "python",
   "pygments_lexer": "ipython3",
   "version": "3.10.4"
  }
 },
 "nbformat": 4,
 "nbformat_minor": 2
}
